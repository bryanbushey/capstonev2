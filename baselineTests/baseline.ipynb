{
 "cells": [
  {
   "cell_type": "code",
   "execution_count": 17,
   "metadata": {},
   "outputs": [],
   "source": [
    "#import everything\n",
    "import pandas as pd\n",
    "from sklearn.model_selection import train_test_split\n",
    "from sklearn.metrics import accuracy_score, confusion_matrix, classification_report\n",
    "import matplotlib.pyplot as plt\n",
    "from sklearn.svm import SVC\n",
    "\n",
    "#import algorithms\n",
    "from sklearn.neural_network import MLPClassifier\n",
    "from sklearn.ensemble import RandomForestClassifier\n",
    "\n",
    "#import the variables\n",
    "CIC2017 = pd.read_csv('/Users/bryan/GitHub/capstonev2-6/dataprocessing/proc_csvfiles/CIC2017processed.csv')\n",
    "CIC2018 = pd.read_csv('/Users/bryan/GitHub/capstonev2-6/dataprocessing/proc_csvfiles/CIC2018processed.csv')\n",
    "HIKARI = pd.read_csv('/Users/bryan/GitHub/capstonev2-6/dataprocessing/proc_csvfiles/HIKARIprocessed.csv')\n",
    "\n",
    "CIC2017_attack = CIC2017['attack']\n",
    "CIC2018_attack = CIC2018['attack']\n",
    "HIKARI_attack = HIKARI['attack']\n",
    "\n",
    "del CIC2017['attack']\n",
    "del CIC2017['flow_pkts_per_sec']\n",
    "\n",
    "del CIC2018['attack']\n",
    "del CIC2018['flow_pkts_per_sec']\n",
    "\n",
    "del HIKARI['attack']\n",
    "del HIKARI['flow_pkts_per_sec']\n"
   ]
  },
  {
   "attachments": {},
   "cell_type": "markdown",
   "metadata": {},
   "source": [
    "Multi-Layer Perceptron\n"
   ]
  },
  {
   "cell_type": "code",
   "execution_count": 10,
   "metadata": {},
   "outputs": [
    {
     "name": "stdout",
     "output_type": "stream",
     "text": [
      "Iteration 1, loss = 1.71662481\n",
      "Iteration 2, loss = 0.98423846\n",
      "Iteration 3, loss = 0.77447794\n",
      "Iteration 4, loss = 0.72323415\n",
      "Iteration 5, loss = 0.24486726\n",
      "Iteration 6, loss = 0.28625961\n",
      "Iteration 7, loss = 0.37475286\n",
      "Iteration 8, loss = 0.48390233\n",
      "Iteration 9, loss = 0.47033667\n",
      "Iteration 10, loss = 0.46026095\n",
      "Iteration 11, loss = 0.47989626\n",
      "Iteration 12, loss = 0.50649287\n",
      "Iteration 13, loss = 0.51718506\n",
      "Iteration 14, loss = 0.51795871\n",
      "Iteration 15, loss = 0.52270497\n",
      "Iteration 16, loss = 0.56236122\n",
      "Training loss did not improve more than tol=0.000010 for 10 consecutive epochs. Stopping.\n",
      "[[11661 27293]\n",
      " [   18 51326]]\n",
      "              precision    recall  f1-score   support\n",
      "\n",
      "           0       1.00      0.30      0.46     38954\n",
      "           1       0.65      1.00      0.79     51344\n",
      "\n",
      "    accuracy                           0.70     90298\n",
      "   macro avg       0.83      0.65      0.63     90298\n",
      "weighted avg       0.80      0.70      0.65     90298\n",
      "\n"
     ]
    },
    {
     "data": {
      "image/png": "[encoded data removed]",
      "text/plain": [
       "<Figure size 432x288 with 1 Axes>"
      ]
     },
     "metadata": {
      "needs_background": "light"
     },
     "output_type": "display_data"
    }
   ],
   "source": [
    "#MLP for CIC2017\n",
    "\n",
    "x = CIC2017\n",
    "y = CIC2017_attack\n",
    "\n",
    "#split 60/40 : train/test\n",
    "x_train, x_test, y_train, y_test = train_test_split(x, y, test_size=0.4)\n",
    "\n",
    "model = MLPClassifier(hidden_layer_sizes=(50, 40, 35, 30),verbose=1, solver='adam', tol=0.00001, batch_size=64)\n",
    "\n",
    "model.fit(x_train, y_train)\n",
    "\n",
    "y_pred = model.predict(x_test)\n",
    "\n",
    "print(confusion_matrix(y_test,y_pred))\n",
    "print(classification_report(y_test, y_pred))\n",
    "\n",
    "# Get the loss_curve_ attribute of the MLPClassifier object\n",
    "loss_curve_ = model.loss_curve_\n",
    "\n",
    "# Create a line plot of the data in the loss_curve_ array\n",
    "plt.plot(loss_curve_)\n",
    "\n",
    "# Adding labels and title to the plot\n",
    "plt.xlabel(\"Iteration\")\n",
    "plt.ylabel(\"Loss\")\n",
    "plt.title(\"MLPClassifier Loss Curve\")\n",
    "\n",
    "# Display the plot\n",
    "plt.show()"
   ]
  },
  {
   "cell_type": "code",
   "execution_count": 11,
   "metadata": {},
   "outputs": [
    {
     "name": "stdout",
     "output_type": "stream",
     "text": [
      "Iteration 1, loss = 1.16241517\n",
      "Iteration 2, loss = 0.25789704\n",
      "Iteration 3, loss = 0.11719858\n",
      "Iteration 4, loss = 0.09131104\n",
      "Iteration 5, loss = 0.16691020\n",
      "Iteration 6, loss = 0.42900508\n",
      "Iteration 7, loss = 0.28763895\n",
      "Iteration 8, loss = 0.21771946\n",
      "Iteration 9, loss = 0.35600962\n",
      "Iteration 10, loss = 0.35127622\n",
      "Iteration 11, loss = 0.28055452\n",
      "Iteration 12, loss = 0.25751703\n",
      "Iteration 13, loss = 0.37458238\n",
      "Iteration 14, loss = 0.29234345\n",
      "Iteration 15, loss = 0.27068497\n",
      "Training loss did not improve more than tol=0.000010 for 10 consecutive epochs. Stopping.\n",
      "[[304476    549]\n",
      " [ 57277  57128]]\n",
      "              precision    recall  f1-score   support\n",
      "\n",
      "           0       0.84      1.00      0.91    305025\n",
      "           1       0.99      0.50      0.66    114405\n",
      "\n",
      "    accuracy                           0.86    419430\n",
      "   macro avg       0.92      0.75      0.79    419430\n",
      "weighted avg       0.88      0.86      0.85    419430\n",
      "\n"
     ]
    },
    {
     "data": {
      "image/png": "[encoded data removed]",
      "text/plain": [
       "<Figure size 432x288 with 1 Axes>"
      ]
     },
     "metadata": {
      "needs_background": "light"
     },
     "output_type": "display_data"
    }
   ],
   "source": [
    "#MLP for CIC2018\n",
    "\n",
    "x = CIC2018\n",
    "y = CIC2018_attack\n",
    "\n",
    "#split 60/40 : train/test\n",
    "x_train, x_test, y_train, y_test = train_test_split(x, y, test_size=0.4)\n",
    "\n",
    "model = MLPClassifier(hidden_layer_sizes=(50, 40, 35, 30),verbose=1, solver='adam', tol=0.00001, batch_size=64)\n",
    "\n",
    "model.fit(x_train, y_train)\n",
    "\n",
    "y_pred = model.predict(x_test)\n",
    "\n",
    "print(confusion_matrix(y_test,y_pred))\n",
    "print(classification_report(y_test, y_pred))\n",
    "\n",
    "# Get the loss_curve_ attribute of the MLPClassifier object\n",
    "loss_curve_ = model.loss_curve_\n",
    "\n",
    "# Create a line plot of the data in the loss_curve_ array\n",
    "plt.plot(loss_curve_)\n",
    "\n",
    "# Adding labels and title to the plot\n",
    "plt.xlabel(\"Iteration\")\n",
    "plt.ylabel(\"Loss\")\n",
    "plt.title(\"MLPClassifier Loss Curve\")\n",
    "\n",
    "# Display the plot\n",
    "plt.show()"
   ]
  },
  {
   "cell_type": "code",
   "execution_count": 13,
   "metadata": {},
   "outputs": [
    {
     "name": "stdout",
     "output_type": "stream",
     "text": [
      "Iteration 1, loss = 3.53314942\n",
      "Iteration 2, loss = 3.44257699\n",
      "Iteration 3, loss = 3.41875404\n",
      "Iteration 4, loss = 3.38889553\n",
      "Iteration 5, loss = 3.37169037\n",
      "Iteration 6, loss = 3.36218771\n",
      "Iteration 7, loss = 3.34084181\n",
      "Iteration 8, loss = 3.35675798\n",
      "Iteration 9, loss = 3.33665150\n",
      "Iteration 10, loss = 3.33657396\n",
      "Iteration 11, loss = 3.30909273\n",
      "Iteration 12, loss = 3.31277329\n",
      "Iteration 13, loss = 3.39737420\n",
      "Iteration 14, loss = 3.36953186\n",
      "Iteration 15, loss = 3.32240838\n",
      "Iteration 16, loss = 3.33371507\n",
      "Iteration 17, loss = 3.35626848\n",
      "Iteration 18, loss = 3.28287005\n",
      "Iteration 19, loss = 3.28165879\n",
      "Iteration 20, loss = 3.31698753\n",
      "Iteration 21, loss = 3.29567685\n",
      "Iteration 22, loss = 3.32621806\n",
      "Iteration 23, loss = 3.32998319\n",
      "Iteration 24, loss = 3.30432617\n",
      "Iteration 25, loss = 3.30039769\n",
      "Iteration 26, loss = 3.24457458\n",
      "Iteration 27, loss = 3.11090046\n",
      "Iteration 28, loss = 2.38398162\n",
      "Iteration 29, loss = 1.95880738\n",
      "Iteration 30, loss = 1.78863848\n",
      "Iteration 31, loss = 1.77647168\n",
      "Iteration 32, loss = 1.75912535\n",
      "Iteration 33, loss = 1.77595433\n",
      "Iteration 34, loss = 1.76186552\n",
      "Iteration 35, loss = 1.72581882\n",
      "Iteration 36, loss = 1.73689271\n",
      "Iteration 37, loss = 1.71775547\n",
      "Iteration 38, loss = 1.69408301\n",
      "Iteration 39, loss = 1.60637283\n",
      "Iteration 40, loss = 1.55980506\n",
      "Iteration 41, loss = 1.52384371\n",
      "Iteration 42, loss = 1.50205631\n",
      "Iteration 43, loss = 1.47088337\n",
      "Iteration 44, loss = 1.44880736\n",
      "Iteration 45, loss = 1.42210980\n",
      "Iteration 46, loss = 1.39533064\n",
      "Iteration 47, loss = 1.34404941\n",
      "Iteration 48, loss = 1.24341594\n",
      "Iteration 49, loss = 0.63487875\n",
      "Iteration 50, loss = 0.19911221\n",
      "Iteration 51, loss = 0.16453271\n",
      "Iteration 52, loss = 0.16961990\n",
      "Iteration 53, loss = 0.16706522\n",
      "Iteration 54, loss = 0.16976467\n",
      "Iteration 55, loss = 0.16561580\n",
      "Iteration 56, loss = 0.16398282\n",
      "Iteration 57, loss = 0.16779752\n",
      "Iteration 58, loss = 0.17017893\n",
      "Iteration 59, loss = 0.16520009\n",
      "Iteration 60, loss = 0.16482644\n",
      "Iteration 61, loss = 0.16098348\n",
      "Iteration 62, loss = 0.15964019\n",
      "Iteration 63, loss = 0.16349629\n",
      "Iteration 64, loss = 0.16161803\n",
      "Iteration 65, loss = 0.16394435\n",
      "Iteration 66, loss = 0.16367455\n",
      "Iteration 67, loss = 0.16203763\n",
      "Iteration 68, loss = 0.16289559\n",
      "Iteration 69, loss = 0.16808657\n",
      "Iteration 70, loss = 0.16715305\n",
      "Iteration 71, loss = 0.16474947\n",
      "Iteration 72, loss = 0.16384250\n",
      "Iteration 73, loss = 0.16656801\n",
      "Training loss did not improve more than tol=0.000100 for 10 consecutive epochs. Stopping.\n",
      "[[     0  15166]\n",
      " [     0 206946]]\n",
      "              precision    recall  f1-score   support\n",
      "\n",
      "           0       0.00      0.00      0.00     15166\n",
      "           1       0.93      1.00      0.96    206946\n",
      "\n",
      "    accuracy                           0.93    222112\n",
      "   macro avg       0.47      0.50      0.48    222112\n",
      "weighted avg       0.87      0.93      0.90    222112\n",
      "\n"
     ]
    },
    {
     "name": "stderr",
     "output_type": "stream",
     "text": [
      "/Users/bryan/opt/anaconda3/envs/bush/lib/python3.8/site-packages/sklearn/metrics/_classification.py:1327: UndefinedMetricWarning: Precision and F-score are ill-defined and being set to 0.0 in labels with no predicted samples. Use `zero_division` parameter to control this behavior.\n",
      "  _warn_prf(average, modifier, msg_start, len(result))\n",
      "/Users/bryan/opt/anaconda3/envs/bush/lib/python3.8/site-packages/sklearn/metrics/_classification.py:1327: UndefinedMetricWarning: Precision and F-score are ill-defined and being set to 0.0 in labels with no predicted samples. Use `zero_division` parameter to control this behavior.\n",
      "  _warn_prf(average, modifier, msg_start, len(result))\n",
      "/Users/bryan/opt/anaconda3/envs/bush/lib/python3.8/site-packages/sklearn/metrics/_classification.py:1327: UndefinedMetricWarning: Precision and F-score are ill-defined and being set to 0.0 in labels with no predicted samples. Use `zero_division` parameter to control this behavior.\n",
      "  _warn_prf(average, modifier, msg_start, len(result))\n"
     ]
    },
    {
     "data": {
      "image/png": "[encoded data removed]",
      "text/plain": [
       "<Figure size 432x288 with 1 Axes>"
      ]
     },
     "metadata": {
      "needs_background": "light"
     },
     "output_type": "display_data"
    }
   ],
   "source": [
    "#MLP for CIC2017\n",
    "\n",
    "x = HIKARI\n",
    "y = HIKARI_attack\n",
    "\n",
    "#split 60/40 : train/test\n",
    "x_train, x_test, y_train, y_test = train_test_split(x, y, test_size=0.4)\n",
    "\n",
    "model = MLPClassifier(verbose=1)\n",
    "\n",
    "model.fit(x_train, y_train)\n",
    "\n",
    "y_pred = model.predict(x_test)\n",
    "\n",
    "print(confusion_matrix(y_test,y_pred))\n",
    "print(classification_report(y_test, y_pred))\n",
    "\n",
    "# Get the loss_curve_ attribute of the MLPClassifier object\n",
    "loss_curve_ = model.loss_curve_\n",
    "\n",
    "# Create a line plot of the data in the loss_curve_ array\n",
    "plt.plot(loss_curve_)\n",
    "\n",
    "# Adding labels and title to the plot\n",
    "plt.xlabel(\"Iteration\")\n",
    "plt.ylabel(\"Loss\")\n",
    "plt.title(\"MLPClassifier Loss Curve\")\n",
    "\n",
    "# Display the plot\n",
    "plt.show()"
   ]
  },
  {
   "attachments": {},
   "cell_type": "markdown",
   "metadata": {},
   "source": [
    "Random Forest"
   ]
  },
  {
   "cell_type": "code",
   "execution_count": 14,
   "metadata": {},
   "outputs": [
    {
     "name": "stdout",
     "output_type": "stream",
     "text": [
      "[[39073     9]\n",
      " [   24 51192]]\n",
      "              precision    recall  f1-score   support\n",
      "\n",
      "           0       1.00      1.00      1.00     39082\n",
      "           1       1.00      1.00      1.00     51216\n",
      "\n",
      "    accuracy                           1.00     90298\n",
      "   macro avg       1.00      1.00      1.00     90298\n",
      "weighted avg       1.00      1.00      1.00     90298\n",
      "\n"
     ]
    }
   ],
   "source": [
    "#Random Forest CIC2017\n",
    "\n",
    "x = CIC2017 \n",
    "y = CIC2017_attack\n",
    "\n",
    "#split 60/40 : train/test\n",
    "x_train, x_test, y_train, y_test = train_test_split(x, y, test_size=0.4)\n",
    "\n",
    "model = RandomForestClassifier(n_estimators=50, bootstrap=True, random_state=1)\n",
    "\n",
    "model.fit(x_train, y_train)\n",
    "\n",
    "y_pred = model.predict(x_test)\n",
    "\n",
    "print(confusion_matrix(y_test,y_pred))\n",
    "print(classification_report(y_test, y_pred))"
   ]
  },
  {
   "cell_type": "code",
   "execution_count": 15,
   "metadata": {},
   "outputs": [
    {
     "name": "stdout",
     "output_type": "stream",
     "text": [
      "[[304712    426]\n",
      " [    89 114203]]\n",
      "              precision    recall  f1-score   support\n",
      "\n",
      "           0       1.00      1.00      1.00    305138\n",
      "           1       1.00      1.00      1.00    114292\n",
      "\n",
      "    accuracy                           1.00    419430\n",
      "   macro avg       1.00      1.00      1.00    419430\n",
      "weighted avg       1.00      1.00      1.00    419430\n",
      "\n"
     ]
    }
   ],
   "source": [
    "#Random Forest CIC2018\n",
    "\n",
    "x = CIC2018 \n",
    "y = CIC2018_attack\n",
    "\n",
    "#split 60/40 : train/test\n",
    "x_train, x_test, y_train, y_test = train_test_split(x, y, test_size=0.4)\n",
    "\n",
    "model = RandomForestClassifier(n_estimators=50, bootstrap=True, random_state=1)\n",
    "\n",
    "model.fit(x_train, y_train)\n",
    "\n",
    "y_pred = model.predict(x_test)\n",
    "\n",
    "print(confusion_matrix(y_test,y_pred))\n",
    "print(classification_report(y_test, y_pred))"
   ]
  },
  {
   "cell_type": "code",
   "execution_count": 16,
   "metadata": {},
   "outputs": [
    {
     "name": "stdout",
     "output_type": "stream",
     "text": [
      "[[  2168  12941]\n",
      " [ 10231 196772]]\n",
      "              precision    recall  f1-score   support\n",
      "\n",
      "           0       0.17      0.14      0.16     15109\n",
      "           1       0.94      0.95      0.94    207003\n",
      "\n",
      "    accuracy                           0.90    222112\n",
      "   macro avg       0.56      0.55      0.55    222112\n",
      "weighted avg       0.89      0.90      0.89    222112\n",
      "\n"
     ]
    }
   ],
   "source": [
    "#Random Forest HIKARI\n",
    "\n",
    "x = HIKARI \n",
    "y = HIKARI_attack\n",
    "\n",
    "#split 60/40 : train/test\n",
    "x_train, x_test, y_train, y_test = train_test_split(x, y, test_size=0.4)\n",
    "\n",
    "model = RandomForestClassifier(n_estimators=50, bootstrap=True, random_state=1)\n",
    "\n",
    "model.fit(x_train, y_train)\n",
    "\n",
    "y_pred = model.predict(x_test)\n",
    "\n",
    "print(confusion_matrix(y_test,y_pred))\n",
    "print(classification_report(y_test, y_pred))"
   ]
  },
  {
   "attachments": {},
   "cell_type": "markdown",
   "metadata": {},
   "source": [
    "Support Vector Machine\n"
   ]
  },
  {
   "cell_type": "code",
   "execution_count": 18,
   "metadata": {},
   "outputs": [
    {
     "name": "stdout",
     "output_type": "stream",
     "text": [
      "Model score: 0.7622206471904139\n"
     ]
    }
   ],
   "source": [
    "x = CIC2017 \n",
    "y = CIC2017_attack\n",
    "\n",
    "x_train, x_test, y_train, y_test = train_test_split(x, y, test_size=0.4)\n",
    "\n",
    "# create a model \n",
    "model = SVC()\n",
    "\n",
    "# fit the model \n",
    "model.fit(x_train, y_train)\n",
    "\n",
    "# predict on the test set \n",
    "y_pred = model.predict(x_test)\n",
    "\n",
    "# evaluate the model \n",
    "score = model.score(x_test, y_test)\n",
    "print(\"Model score:\", score)"
   ]
  }
 ],
 "metadata": {
  "kernelspec": {
   "display_name": "Python 3 (ipykernel)",
   "language": "python",
   "name": "python3"
  },
  "language_info": {
   "codemirror_mode": {
    "name": "ipython",
    "version": 3
   },
   "file_extension": ".py",
   "mimetype": "text/x-python",
   "name": "python",
   "nbconvert_exporter": "python",
   "pygments_lexer": "ipython3",
   "version": "3.8.13"
  },
  "orig_nbformat": 4
 },
 "nbformat": 4,
 "nbformat_minor": 2
}
