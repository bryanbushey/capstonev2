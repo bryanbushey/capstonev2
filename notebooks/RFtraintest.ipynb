{
 "cells": [
  {
   "cell_type": "code",
   "execution_count": 6,
   "metadata": {},
   "outputs": [
    {
     "name": "stderr",
     "output_type": "stream",
     "text": [
      "/Users/bryan/opt/anaconda3/envs/bush/lib/python3.8/site-packages/sklearn/ensemble/_forest.py:427: FutureWarning: `max_features='auto'` has been deprecated in 1.1 and will be removed in 1.3. To keep the past behaviour, explicitly set `max_features='sqrt'` or remove this parameter as it is also the default value for RandomForestClassifiers and ExtraTreesClassifiers.\n",
      "  warn(\n"
     ]
    },
    {
     "name": "stdout",
     "output_type": "stream",
     "text": [
      "score on test data:  0.9987459170779391\n",
      "[[152296    220]\n",
      " [    43  57156]]\n"
     ]
    }
   ],
   "source": [
    "import pandas as pd\n",
    "from sklearn.ensemble import RandomForestClassifier\n",
    "from sklearn.preprocessing import StandardScaler  \n",
    "from tqdm import tqdm\n",
    "from sklearn.model_selection import train_test_split\n",
    "from sklearn.metrics import accuracy_score, confusion_matrix, classification_report\n",
    "\n",
    "\n",
    "df = pd.read_csv('/users/bryan/Github/capstonev2-5/dataprocessing/proc_csvfiles/CIC2018processed.csv')\n",
    "dftarget = df['attack'] # set target feature\n",
    "del df['attack'] # delete reduntant feature from original df\n",
    "del df['flow_pkts_per_sec']\n",
    "\n",
    "x = df\n",
    "y = dftarget\n",
    "\n",
    "x_train, x_test, y_train, y_test = train_test_split(x, y, test_size=0.2)\n",
    "\n",
    "model = RandomForestClassifier(n_estimators=100, max_depth=10, min_samples_split=2, max_features='auto')\n",
    "model.fit(x_train, y_train)\n",
    "\n",
    "\n",
    "y_predict = model.predict(x_test)\n",
    "\n",
    "test_score = accuracy_score(y_test,y_predict)\n",
    "print(\"score on test data: \", test_score)\n",
    "print(confusion_matrix(y_test,y_predict))\n",
    "\n",
    "\n",
    "\n",
    "\n"
   ]
  }
 ],
 "metadata": {
  "kernelspec": {
   "display_name": "Python 3 (ipykernel)",
   "language": "python",
   "name": "python3"
  },
  "language_info": {
   "codemirror_mode": {
    "name": "ipython",
    "version": 3
   },
   "file_extension": ".py",
   "mimetype": "text/x-python",
   "name": "python",
   "nbconvert_exporter": "python",
   "pygments_lexer": "ipython3",
   "version": "3.8.13"
  },
  "orig_nbformat": 4
 },
 "nbformat": 4,
 "nbformat_minor": 2
}
