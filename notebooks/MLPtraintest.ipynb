{
 "cells": [
  {
   "cell_type": "code",
   "execution_count": 3,
   "metadata": {},
   "outputs": [
    {
     "name": "stdout",
     "output_type": "stream",
     "text": [
      "Iteration 1, loss = 1.01751596\n",
      "Iteration 2, loss = 0.55592926\n",
      "Iteration 3, loss = 0.54358189\n",
      "Iteration 4, loss = 0.62641765\n",
      "Iteration 5, loss = 0.68533884\n",
      "Iteration 6, loss = 0.69201427\n",
      "Iteration 7, loss = 0.68516775\n",
      "Iteration 8, loss = 0.63417813\n",
      "Iteration 9, loss = 0.56848368\n",
      "Iteration 10, loss = 0.68480608\n",
      "Iteration 11, loss = 0.68474829\n",
      "Iteration 12, loss = 0.68473567\n",
      "Iteration 13, loss = 0.68795893\n",
      "Iteration 14, loss = 0.68464205\n",
      "Training loss did not improve more than tol=0.000100 for 10 consecutive epochs. Stopping.\n",
      "score on test data:  0.5721942900174977\n",
      "[[    0 19315]\n",
      " [    0 25834]]\n"
     ]
    }
   ],
   "source": [
    "import pandas as pd\n",
    "from sklearn.neural_network import MLPClassifier\n",
    "from sklearn.preprocessing import StandardScaler  \n",
    "from tqdm import tqdm\n",
    "from sklearn.model_selection import train_test_split\n",
    "from sklearn.metrics import accuracy_score, confusion_matrix, classification_report\n",
    "\n",
    "\n",
    "df = pd.read_csv('/Users/bryan/Documents/GitHub/capstonev2/dataprocessing/proc_csvfiles/CIC2017processed.csv')\n",
    "dftarget = df['attack'] # set target feature\n",
    "del df['attack'] # delete reduntant feature from original df\n",
    "del df['flow_pkts_per_sec']\n",
    "\n",
    "x = df\n",
    "y = dftarget\n",
    "\n",
    "#reduce data to 30% so its faster\n",
    "x_train, x_test, y_train, y_test = train_test_split(x, y, test_size=0.2)\n",
    "\n",
    "model = MLPClassifier(activation='relu', hidden_layer_sizes=(10,10,10), learning_rate_init=0.01, batch_size=32, max_iter=100, alpha=0.0001, learning_rate='constant', verbose=1).fit(x_train, y_train)\n",
    "#model = MLPClassifier(random_state=1, max_iter=300, verbose=1).fit(x_train, y_train)\n",
    "\n",
    "y_predict = model.predict(x_test)\n",
    "\n",
    "test_score = accuracy_score(y_test,y_predict)\n",
    "print(\"score on test data: \", test_score)\n",
    "print(confusion_matrix(y_test,y_predict))\n",
    "\n",
    "\n",
    "\n",
    "\n"
   ]
  },
  {
   "cell_type": "code",
   "execution_count": 5,
   "metadata": {},
   "outputs": [
    {
     "name": "stdout",
     "output_type": "stream",
     "text": [
      "Iteration 1, loss = 4.03662009\n",
      "Iteration 2, loss = 1.51653142\n",
      "Iteration 3, loss = 1.28288242\n",
      "Iteration 4, loss = 0.97158128\n",
      "Iteration 5, loss = 0.71370403\n",
      "Iteration 6, loss = 0.55682317\n",
      "Iteration 7, loss = 0.65002558\n",
      "Iteration 8, loss = 0.52472703\n",
      "Iteration 9, loss = 0.62014436\n",
      "Iteration 10, loss = 0.44057449\n",
      "Iteration 11, loss = 0.33082451\n",
      "Iteration 12, loss = 0.18077242\n",
      "Iteration 13, loss = 0.22961905\n",
      "Iteration 14, loss = 0.17460483\n",
      "Iteration 15, loss = 0.21163569\n",
      "Iteration 16, loss = 0.15639229\n",
      "Iteration 17, loss = 0.15168669\n",
      "Iteration 18, loss = 0.16330773\n",
      "Iteration 19, loss = 0.18065745\n",
      "Iteration 20, loss = 0.14658417\n",
      "Iteration 21, loss = 0.20448645\n",
      "Iteration 22, loss = 0.15812704\n",
      "Iteration 23, loss = 0.15533758\n",
      "Iteration 24, loss = 0.14906893\n",
      "Iteration 25, loss = 0.18952607\n",
      "Iteration 26, loss = 0.28020581\n",
      "Iteration 27, loss = 0.20670043\n",
      "Iteration 28, loss = 0.18251007\n",
      "Iteration 29, loss = 0.18712930\n",
      "Iteration 30, loss = 0.18699647\n",
      "Iteration 31, loss = 0.16528129\n",
      "Training loss did not improve more than tol=0.000100 for 10 consecutive epochs. Stopping.\n",
      "score on test data:  0.969168752353319\n",
      "[[18057  1348]\n",
      " [   44 25700]]\n"
     ]
    }
   ],
   "source": [
    "from sklearn.model_selection import train_test_split \n",
    "from sklearn.neural_network import MLPClassifier \n",
    "from sklearn.metrics import accuracy_score, confusion_matrix, classification_report\n",
    "\n",
    "df = pd.read_csv('/Users/bryan/Documents/GitHub/capstonev2/dataprocessing/proc_csvfiles/CIC2017processed.csv')\n",
    "dftarget = df['attack'] # set target feature\n",
    "del df['attack'] # delete reduntant feature from original df\n",
    "del df['flow_pkts_per_sec']\n",
    "\n",
    "# enter x and y variables \n",
    "x = df\n",
    "y = dftarget\n",
    "\n",
    "# Split the dataset into training and testing sets \n",
    "x_train, x_test, y_train, y_test = train_test_split(x, y, test_size=0.2, random_state=42)\n",
    "\n",
    "# Create the MLPClassifier model \n",
    "mlp = MLPClassifier(hidden_layer_sizes=(12, 12, 12), max_iter=500,verbose=1)\n",
    "\n",
    "# Train the model \n",
    "mlp.fit(x_train, y_train)\n",
    "\n",
    "# Test the model \n",
    "y_pred = mlp.predict(x_test)\n",
    "test_score = accuracy_score(y_test,y_pred)\n",
    "print(\"score on test data: \", test_score)\n",
    "print(confusion_matrix(y_test,y_pred))"
   ]
  },
  {
   "cell_type": "code",
   "execution_count": 7,
   "metadata": {},
   "outputs": [
    {
     "ename": "TypeError",
     "evalue": "'tuple' object is not callable",
     "output_type": "error",
     "traceback": [
      "\u001b[0;31m---------------------------------------------------------------------------\u001b[0m",
      "\u001b[0;31mTypeError\u001b[0m                                 Traceback (most recent call last)",
      "\u001b[1;32m/Users/bryan/Documents/GitHub/capstonev2/notebooks/MLPtraintest.ipynb Cell 3\u001b[0m in \u001b[0;36m<cell line: 4>\u001b[0;34m()\u001b[0m\n\u001b[1;32m      <a href='vscode-notebook-cell:/Users/bryan/Documents/GitHub/capstonev2/notebooks/MLPtraintest.ipynb#W4sZmlsZQ%3D%3D?line=1'>2</a>\u001b[0m df \u001b[39m=\u001b[39m pd\u001b[39m.\u001b[39mread_csv(\u001b[39m'\u001b[39m\u001b[39m/Users/bryan/Documents/GitHub/capstonev2/dataprocessing/proc_csvfiles/CIC2017processed.csv\u001b[39m\u001b[39m'\u001b[39m)\n\u001b[1;32m      <a href='vscode-notebook-cell:/Users/bryan/Documents/GitHub/capstonev2/notebooks/MLPtraintest.ipynb#W4sZmlsZQ%3D%3D?line=2'>3</a>\u001b[0m \u001b[39mdel\u001b[39;00m df[\u001b[39m'\u001b[39m\u001b[39mflow_pkts_per_sec\u001b[39m\u001b[39m'\u001b[39m]\n\u001b[0;32m----> <a href='vscode-notebook-cell:/Users/bryan/Documents/GitHub/capstonev2/notebooks/MLPtraintest.ipynb#W4sZmlsZQ%3D%3D?line=3'>4</a>\u001b[0m df\u001b[39m.\u001b[39;49mshape()\n",
      "\u001b[0;31mTypeError\u001b[0m: 'tuple' object is not callable"
     ]
    }
   ],
   "source": [
    "import pandas as pd\n",
    "df = pd.read_csv('/Users/bryan/Documents/GitHub/capstonev2/dataprocessing/proc_csvfiles/CIC2017processed.csv')\n",
    "del df['flow_pkts_per_sec']\n",
    "df.info()"
   ]
  }
 ],
 "metadata": {
  "kernelspec": {
   "display_name": "Python 3 (ipykernel)",
   "language": "python",
   "name": "python3"
  },
  "language_info": {
   "codemirror_mode": {
    "name": "ipython",
    "version": 3
   },
   "file_extension": ".py",
   "mimetype": "text/x-python",
   "name": "python",
   "nbconvert_exporter": "python",
   "pygments_lexer": "ipython3",
   "version": "3.8.13"
  },
  "orig_nbformat": 4
 },
 "nbformat": 4,
 "nbformat_minor": 2
}
